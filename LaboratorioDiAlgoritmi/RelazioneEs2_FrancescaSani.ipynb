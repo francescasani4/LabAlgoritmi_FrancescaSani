{
 "cells": [
  {
   "cell_type": "markdown",
   "id": "c16179ff",
   "metadata": {},
   "source": [
    "<img src=\"https://upload.wikimedia.org/wikipedia/it/1/10/Unifi_nuovo.svg\" width=\"120px\" heigth=\"120px\" align=\"right\">\n",
    "\n",
    "# Laboratorio di Algoritmi e Strutture Dati\n",
    "\n",
    "## *Confronto algoritmi Selection-Sort e Quick-Sort*"
   ]
  },
  {
   "cell_type": "markdown",
   "id": "01cc685d",
   "metadata": {},
   "source": [
    "> **Francesca Sani** - Mat. 7025023"
   ]
  },
  {
   "cell_type": "markdown",
   "id": "0b28fa13",
   "metadata": {},
   "source": [
    "## Indice\n",
    "* [Introduzione](#introduzione)\n",
    "    * [Librerie utilizzate](#librerie)\n",
    "* [Cenni teorici](#teoria)\n",
    "    * [Problemi dell'ordinamento](#problema)\n",
    "    * [Selcetion-Sort](#Selection-Sort)"
   ]
  },
  {
   "cell_type": "markdown",
   "id": "1eb57503",
   "metadata": {},
   "source": [
    "## Introduzione <a id=\"introduzione\">"
   ]
  },
  {
   "cell_type": "markdown",
   "id": "bef4f7bd",
   "metadata": {},
   "source": [
    "Lo scopo di questo Notebook Jupyter è quello di confrontare le prestazioni di due algoritmi di ordinamento: **Selection-Sort** e **Quick-Sort**."
   ]
  },
  {
   "cell_type": "markdown",
   "id": "20edd7bc",
   "metadata": {},
   "source": [
    "### Librerie utilizzate <a id=\"librerie\">"
   ]
  },
  {
   "cell_type": "markdown",
   "id": "e7df40a9",
   "metadata": {},
   "source": [
    "Per svolgere i test sono stati utilizzati i seguenti moduli Python:\n",
    "* *numpy* $ \\rightarrow $ permette di generare array con dei valori casuali.\n",
    "* *matplotlib* $ \\rightarrow $ permette di generare grafici e tabelle, in modo da poter analizzare le prestazioni dei due algoritmi."
   ]
  },
  {
   "cell_type": "markdown",
   "id": "1d3095d6",
   "metadata": {},
   "source": [
    "Atraverso il blocco di codice sottostante verrano installati automaticamente."
   ]
  },
  {
   "cell_type": "code",
   "execution_count": 1,
   "id": "53935bb7",
   "metadata": {},
   "outputs": [],
   "source": [
    "!pip install numpy --user --quiet\n",
    "!pip install matplotlib --user --quiet"
   ]
  },
  {
   "cell_type": "markdown",
   "id": "4aa3ec4f",
   "metadata": {},
   "source": [
    "## Cenni teorici <a id=\"teoria\">"
   ]
  },
  {
   "cell_type": "markdown",
   "id": "80d1781d",
   "metadata": {},
   "source": [
    "### Problema dell'ordinamento <a id=\"problema\">\n",
    "Data una sequenza di n numeri potremmo avere la necessità di volerla ordinare secondo determinati criteri, è possibile formalizzare il *problema dell'ordinamento* come segue: <br>\n",
    "**Input** : una sequenza di *n* numeri $ A = <a_1, a_2, ..., a_n>$ <br>\n",
    "**Output** : una permutazione $A' = <a'_1, a'_2, ..., a'_n>$ di $A$ tale che $a'_1 \\leq a'_2 \\leq ... \\leq a'_n$."
   ]
  },
  {
   "cell_type": "markdown",
   "id": "9f141527",
   "metadata": {},
   "source": [
    "Esistoni vari algoritmi di ordinameno che permettono di \"risolvere\" questo problema. La scleta di quale algoritmo utilizzare dipenderà dal contesto in cui dovrà operare, poiché differiscono tra loro per velocità di esecuzione, complessita computazionale."
   ]
  },
  {
   "cell_type": "markdown",
   "id": "f4f4c63c",
   "metadata": {},
   "source": [
    "### Selection-Sort <a id=\"Selection-Sort\">\n",
    "Il **Selection-Sort**, o ordinamento per selezione, è un algoritmo di ordinamento il quale seleziona l'elemento più piccolo da un array non ordinato ad ogni iterazione e posiziona tale elemento all'inizio dell'array non ordinato. Questo tipo di ordinamento è un ordinamento di tipo crescente."
   ]
  },
  {
   "cell_type": "markdown",
   "id": "535da21a",
   "metadata": {},
   "source": [
    "Inizialmente, il primo elemento viene impostato come *minimo* e lo confronta con quello successivo, che se è minore diventa il minimo, altrimenti procede con il successivo, questo lo fa fino ad arrivare all'ultimo elemento. <br>\n",
    "Dopo ogni iterazione il *minimo* individuato viene scambiato con il primo elemento da analizzare. <br>\n",
    "Questo procedimento viene eseguito finché tutti gli elementi presenti nell'array non si trovano nella posizione corretta, ovvero finché non resta un solo elemento che sarà sicuramente maggiore rispetto a gli elementi di sinistra contenuti nell'array."
   ]
  },
  {
   "cell_type": "markdown",
   "id": "11c36be1",
   "metadata": {},
   "source": [
    "Esempio."
   ]
  },
  {
   "cell_type": "markdown",
   "id": "0474d63f",
   "metadata": {},
   "source": [
    "<img src=\"https://www.programiz.com/sites/tutorial2program/files/Selection-sort-0.png\" width=\"400px\" align=\"left\">\n",
    "<img src=\"https://www.programiz.com/sites/tutorial2program/files/Selection-sort-1.png\" width=\"400px\">"
   ]
  },
  {
   "cell_type": "markdown",
   "id": "35d42380",
   "metadata": {},
   "source": [
    "<img src=\"https://www.programiz.com/sites/tutorial2program/files/Selection-sort-2.png\" width=\"400px\" align=\"left\" >\n",
    "<img src=\"https://www.programiz.com/sites/tutorial2program/files/Selection-sort-3_1.png\" width=\"400px\">"
   ]
  },
  {
   "cell_type": "markdown",
   "id": "889c8af1",
   "metadata": {},
   "source": [
    "<font color=\"#3F3F3F\"> **Figura 1**: esempio di applicazione di Selection-Sort"
   ]
  },
  {
   "cell_type": "markdown",
   "id": "36325e9e",
   "metadata": {},
   "source": [
    "### Complessità\n",
    "La complessitaà di questo algoritmo è la solita in tutti i casi, poiché ad ogni passo devo trovare il minimo e metterlo nella posizione corretta. L'elemento minimo non viene individuato finché tutto l'arrey on è stato esplorato. <br> \n",
    "Quindi sia nel caso peggiore (array ordinato inversamente), sia nel caso migliore (array già ordinato, che in quello medio (array in ordine casuale) la complessità è di $O(n^2)$."
   ]
  },
  {
   "cell_type": "markdown",
   "id": "d2201455",
   "metadata": {},
   "source": [
    "Provaa"
   ]
  },
  {
   "cell_type": "markdown",
   "id": "b3d24be2",
   "metadata": {},
   "source": [
    "### Correttezza"
   ]
  },
  {
   "cell_type": "markdown",
   "id": "aa1e3f4d",
   "metadata": {},
   "source": [
    "### Stabilità"
   ]
  },
  {
   "cell_type": "markdown",
   "id": "b57ef3b1",
   "metadata": {},
   "source": [
    "### Codice"
   ]
  }
 ],
 "metadata": {
  "kernelspec": {
   "display_name": "Python 3 (ipykernel)",
   "language": "python",
   "name": "python3"
  },
  "language_info": {
   "codemirror_mode": {
    "name": "ipython",
    "version": 3
   },
   "file_extension": ".py",
   "mimetype": "text/x-python",
   "name": "python",
   "nbconvert_exporter": "python",
   "pygments_lexer": "ipython3",
   "version": "3.10.9"
  }
 },
 "nbformat": 4,
 "nbformat_minor": 5
}
