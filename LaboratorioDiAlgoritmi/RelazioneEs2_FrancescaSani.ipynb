{
 "cells": [
  {
   "cell_type": "markdown",
   "id": "c16179ff",
   "metadata": {},
   "source": [
    "<img src=\"https://upload.wikimedia.org/wikipedia/it/1/10/Unifi_nuovo.svg\" width=\"120px\" heigth=\"120px\" align=\"right\">\n",
    "\n",
    "# Laboratorio di Algoritmi e Strutture Dati\n",
    "\n",
    "## *Confronto algoritmi Selection-Sort e Quick-Sort*"
   ]
  },
  {
   "cell_type": "markdown",
   "id": "01cc685d",
   "metadata": {},
   "source": [
    "> **Francesca Sani** - Mat. 7025023"
   ]
  },
  {
   "cell_type": "markdown",
   "id": "0b28fa13",
   "metadata": {},
   "source": [
    "---\n",
    "## Indice\n",
    "* [Introduzione](#introduzione)\n",
    "    * [Librerie utilizzate](#librerie)\n",
    "* [Cenni teorici](#teoria)\n",
    "    * [Problemi dell'ordinamento](#problema)\n",
    "    * [Selcetion-Sort](#Selection-Sort)\n",
    "        * [Complessità](#complessitàS)\n",
    "        * [Correttezza](#correttezzaS)\n",
    "        * [Stabilità](#stabilitàS)\n",
    "        * [Codice](#codiceS)\n",
    "    * [Quick-Sort](#Quick-Sort)\n",
    "        * [Complessità](#complessitàQ)\n",
    "        * [Correttezza](#correttezzaQ)\n",
    "        * [Stabilità](#stabilitàQ)\n",
    "        * [Codice](#codiceQ)\n",
    "---"
   ]
  },
  {
   "cell_type": "markdown",
   "id": "1eb57503",
   "metadata": {},
   "source": [
    "## Introduzione <a id=\"introduzione\">"
   ]
  },
  {
   "cell_type": "markdown",
   "id": "bef4f7bd",
   "metadata": {},
   "source": [
    "Lo scopo di questo Notebook Jupyter è quello di confrontare le prestazioni di due algoritmi di ordinamento: **Selection-Sort** e **Quick-Sort**."
   ]
  },
  {
   "cell_type": "markdown",
   "id": "20edd7bc",
   "metadata": {},
   "source": [
    "### Librerie utilizzate <a id=\"librerie\">"
   ]
  },
  {
   "cell_type": "markdown",
   "id": "e7df40a9",
   "metadata": {},
   "source": [
    "Per svolgere i test sono stati utilizzati i seguenti moduli Python:\n",
    "* *numpy* $ \\rightarrow $ permette di generare array con dei valori casuali.\n",
    "* *matplotlib* $ \\rightarrow $ permette di generare grafici e tabelle, in modo da poter analizzare le prestazioni dei due algoritmi."
   ]
  },
  {
   "cell_type": "markdown",
   "id": "1d3095d6",
   "metadata": {},
   "source": [
    "Atraverso il blocco di codice sottostante verrano installati automaticamente."
   ]
  },
  {
   "cell_type": "code",
   "execution_count": 1,
   "id": "53935bb7",
   "metadata": {},
   "outputs": [],
   "source": [
    "!pip install numpy --user --quiet\n",
    "!pip install matplotlib --user --quiet"
   ]
  },
  {
   "cell_type": "markdown",
   "id": "4aa3ec4f",
   "metadata": {},
   "source": [
    "---\n",
    "## Cenni teorici <a id=\"teoria\">"
   ]
  },
  {
   "cell_type": "markdown",
   "id": "80d1781d",
   "metadata": {},
   "source": [
    "### Problema dell'ordinamento <a id=\"problema\">\n",
    "Data una sequenza di n numeri potremmo avere la necessità di volerla ordinare secondo determinati criteri, è possibile formalizzare il *problema dell'ordinamento* come segue: <br>\n",
    "**Input** : una sequenza di *n* numeri $ A = <a_1, a_2, ..., a_n>$ <br>\n",
    "**Output** : una permutazione $A' = <a'_1, a'_2, ..., a'_n>$ di $A$ tale che $a'_1 \\leq a'_2 \\leq ... \\leq a'_n$."
   ]
  },
  {
   "cell_type": "markdown",
   "id": "9f141527",
   "metadata": {},
   "source": [
    "Esistoni vari algoritmi di ordinameno che permettono di \"risolvere\" questo problema. La scleta di quale algoritmo utilizzare dipenderà dal contesto in cui dovrà operare, poiché differiscono tra loro per velocità di esecuzione, complessita computazionale."
   ]
  },
  {
   "cell_type": "markdown",
   "id": "f4f4c63c",
   "metadata": {},
   "source": [
    "---\n",
    "### Selection-Sort <a id=\"Selection-Sort\">\n",
    "Il **Selection-Sort**, o ordinamento per selezione, è un algoritmo di ordinamento il quale seleziona l'elemento più piccolo da un array non ordinato ad ogni iterazione e posiziona tale elemento all'inizio dell'array non ordinato. Questo tipo di ordinamento è un ordinamento di tipo crescente."
   ]
  },
  {
   "cell_type": "markdown",
   "id": "535da21a",
   "metadata": {},
   "source": [
    "Inizialmente, il primo elemento viene impostato come **minimo** e lo confronta con quello successivo, che se è minore diventa il minimo, altrimenti procede con il successivo, questo lo fa fino ad arrivare all'ultimo elemento. <br>\n",
    "Dopo ogni iterazione il *minimo* individuato viene scambiato con il primo elemento da analizzare. <br>\n",
    "Questo procedimento viene eseguito finché tutti gli elementi presenti nell'array non si trovano nella posizione corretta, ovvero finché non resta un solo elemento che sarà sicuramente maggiore rispetto a gli elementi di sinistra contenuti nell'array."
   ]
  },
  {
   "cell_type": "markdown",
   "id": "11c36be1",
   "metadata": {},
   "source": [
    "Esempio."
   ]
  },
  {
   "cell_type": "markdown",
   "id": "0474d63f",
   "metadata": {},
   "source": [
    "<img src=\"https://www.programiz.com/sites/tutorial2program/files/Selection-sort-0.png\" width=\"400px\" align=\"left\">\n",
    "<img src=\"https://www.programiz.com/sites/tutorial2program/files/Selection-sort-1.png\" width=\"400px\">"
   ]
  },
  {
   "cell_type": "markdown",
   "id": "35d42380",
   "metadata": {},
   "source": [
    "<img src=\"https://www.programiz.com/sites/tutorial2program/files/Selection-sort-2.png\" width=\"400px\" align=\"left\" >\n",
    "<img src=\"https://www.programiz.com/sites/tutorial2program/files/Selection-sort-3_1.png\" width=\"400px\">"
   ]
  },
  {
   "cell_type": "markdown",
   "id": "889c8af1",
   "metadata": {},
   "source": [
    "---\n",
    "<font color=\"#3F3F3F\"> **Figura 1**: esempio di applicazione di Selection-Sort"
   ]
  },
  {
   "cell_type": "markdown",
   "id": "36325e9e",
   "metadata": {},
   "source": [
    "### Complessità <a id=\"complessitàS\">\n",
    "La complessità di questo algoritmo è la solita in tutti i casi, poiché ad ogni passo devo trovare il minimo e metterlo nella posizione corretta. L'elemento minimo non viene individuato finché tutto l'array non è stato esplorato. <br> \n",
    "Quindi sia nel caso peggiore (array ordinato inversamente), sia nel caso migliore (array già ordinato), sia in quello medio (array in ordine casuale) la complessità è di $O(n^2)$."
   ]
  },
  {
   "cell_type": "markdown",
   "id": "d2201455",
   "metadata": {},
   "source": [
    "| Caso peggiore | Caso migliore | Caso medio |\n",
    "|:---:|:---:|:---:|\n",
    "| $O(n^2)$ | $O(n^2)$ | $O(n^2)$ |"
   ]
  },
  {
   "cell_type": "markdown",
   "id": "a263f3c8",
   "metadata": {},
   "source": [
    "Questo algoritmo non è molto efficiente, ma è un'ottima soluzione quando si deve ordinare un quantitativo non troppo elevato di elementi."
   ]
  },
  {
   "cell_type": "markdown",
   "id": "b3d24be2",
   "metadata": {},
   "source": [
    "### Correttezza <a id=\"correttezzaS\">\n",
    "L'algoritmo Selection-Sort è un algoritmo iterativo, pertanto è possibile dimostrare la sua **correttezza** attraverso un invariante di ciclo; è possibile affermare la correttezza di questo algoritmo, poiché qualsiasi input gli viene fornito termina sempre con l'output corretto."
   ]
  },
  {
   "cell_type": "markdown",
   "id": "aa1e3f4d",
   "metadata": {},
   "source": [
    "### Stabilità <a id=\"stabilitàS\">\n",
    "Il Selection-Sort è un algoritmo **non stabile**, poiché chiavi che hanno lo stesso valore possono essere invertite e quindi non apparire nello stesso ordine di ingresso. "
   ]
  },
  {
   "cell_type": "markdown",
   "id": "b57ef3b1",
   "metadata": {},
   "source": [
    "### Codice <a id=\"codiceS\">"
   ]
  },
  {
   "cell_type": "code",
   "execution_count": 2,
   "id": "19870eef",
   "metadata": {},
   "outputs": [],
   "source": [
    "# Implementazione dell'algoritmo Selection-Sort\n",
    "def selection_sort(A: list):\n",
    "    n = len(A)\n",
    "\n",
    "    for i in range(n):\n",
    "        min_idx = i\n",
    "\n",
    "        for j in range(i + 1, n):\n",
    "            if A[j] < A[min_idx]:\n",
    "                min_idx = j\n",
    "        tmp = A[i]\n",
    "        A[i] = A[min_idx]\n",
    "        A[min_idx] = tmp"
   ]
  },
  {
   "cell_type": "markdown",
   "id": "99ba0c18",
   "metadata": {},
   "source": [
    "---\n",
    "### Quick-Sort <a id=\"Quick-Sort\">\n",
    "Il **Quick-Sort** è un algoritmo basato sul paradigma *Divide-at-Impera*, che sceglie un elemento come pivot e partiziona l'array dato in base al pivot selezionato, posizionandolo nella sua posizione corretta. "
   ]
  },
  {
   "cell_type": "markdown",
   "id": "34ed3053",
   "metadata": {},
   "source": [
    "Per ordinare un array della forma $A[p ... r]$: <br>\n",
    "\n",
    "**Divide**: Partizionare l'array $A[p ... r]$ in due sottoarray $A[p ... q-1]$ e $A[q+1 ... r]$ tali che ogni elemento in $A[p ... q-1]$ sia minore uguale a $A[q]$  e ogni elemento in $A[q+1 ... r]$ sia maggiore uguale a $A[q]$. <br>\n",
    "**Impera**: Ordinare i due sottoarray attraverso chiamate ricorsive a QUICK-SORT. <br>\n",
    "**Combina**: I sottoarray sono ordinati sul posto, l'intero array $A[p ... r]$ è ordinato."
   ]
  },
  {
   "cell_type": "markdown",
   "id": "a4d17de9",
   "metadata": {},
   "source": [
    "Esempio."
   ]
  },
  {
   "cell_type": "markdown",
   "id": "0676f486",
   "metadata": {},
   "source": [
    "<img src=\"https://www.programiz.com/sites/tutorial2program/files/quick-sort-working.png\" width=\"650px\" >"
   ]
  },
  {
   "cell_type": "markdown",
   "id": "5be246e0",
   "metadata": {},
   "source": [
    "<img src=\"https://www.programiz.com/sites/tutorial2program/files/quick-sort-1.png\" width=\"650px\">"
   ]
  },
  {
   "cell_type": "markdown",
   "id": "6d34ecce",
   "metadata": {},
   "source": [
    "---\n",
    "<font color=\"#3F3F3F\"> **Figura 2**: esempio di applicazione di Quick-Sort"
   ]
  },
  {
   "cell_type": "markdown",
   "id": "8a4a44b4",
   "metadata": {},
   "source": [
    "### Complessità <a id=\"complessitàQ\">\n",
    "La complessità di questo algoritmo si differenza tra caso peggiore e caso migliore e caso medio.<br>\n",
    "    \n",
    "* *Caso migliore*, ovvero quando il pivot viene scelto im modo tale che divide sempre l'array a metà e quindi l'algoritmo crea delle partizioni bilanciate, la sua complessità è di $\\Omega(n\\  lg\\  (n))$.<br>\n",
    "* *Caso peggiore*, ovvero quando il pivot viene scelto sempre in modo tale che sia sempre o l'elemento più piccolo o l'elemento più grande, creando così delle partizioni totalmente sbilanciate, pertanto la sua complesità è di $O(n^2)$.<br>\n",
    "* *Caso medio* la sua complessità è di $\\Theta(n\\ lg\\ (n))$."
   ]
  },
  {
   "cell_type": "markdown",
   "id": "587e256f",
   "metadata": {},
   "source": [
    "| Caso peggiore | Caso migliore | Caso medio |\n",
    "|:---:|:---:|:---:|\n",
    "| $O(n^2)$ | $\\Omega(n\\ lg\\ (n))$ | $\\Theta(n\\ lg\\ (n))$ |"
   ]
  },
  {
   "cell_type": "markdown",
   "id": "594fcc69",
   "metadata": {},
   "source": []
  },
  {
   "cell_type": "markdown",
   "id": "019f2f2c",
   "metadata": {},
   "source": [
    "### Correttezza <a id=\"correttezzaQ\">"
   ]
  },
  {
   "cell_type": "markdown",
   "id": "2681a43a",
   "metadata": {},
   "source": [
    "### Stabilità <a id=\"stabilitàS\">"
   ]
  },
  {
   "cell_type": "markdown",
   "id": "74cadb30",
   "metadata": {},
   "source": [
    "### Codice <a id=\"codiceQ\">"
   ]
  },
  {
   "cell_type": "code",
   "execution_count": null,
   "id": "9d51e8eb",
   "metadata": {},
   "outputs": [],
   "source": []
  }
 ],
 "metadata": {
  "kernelspec": {
   "display_name": "Python 3 (ipykernel)",
   "language": "python",
   "name": "python3"
  },
  "language_info": {
   "codemirror_mode": {
    "name": "ipython",
    "version": 3
   },
   "file_extension": ".py",
   "mimetype": "text/x-python",
   "name": "python",
   "nbconvert_exporter": "python",
   "pygments_lexer": "ipython3",
   "version": "3.10.9"
  }
 },
 "nbformat": 4,
 "nbformat_minor": 5
}
